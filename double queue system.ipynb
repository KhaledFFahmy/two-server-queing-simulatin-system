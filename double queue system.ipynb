{
 "cells": [
  {
   "cell_type": "code",
   "execution_count": 2,
   "id": "af7dece0",
   "metadata": {},
   "outputs": [],
   "source": [
    "import pandas as pd\n",
    "import numpy as np\n",
    "import random \n",
    "import matplotlib.pyplot as plt\n",
    "import seaborn as sns\n",
    "import sys"
   ]
  },
  {
   "cell_type": "code",
   "execution_count": 3,
   "id": "bf2db7d5",
   "metadata": {},
   "outputs": [],
   "source": [
    "def Ordinary_Customer_tba(r):\n",
    "    if r<=0.09:\n",
    "        x=0\n",
    "    elif r<=0.26:\n",
    "        x=1\n",
    "    elif r<=0.53:\n",
    "        x=2\n",
    "    elif r<=0.73:\n",
    "        x=3\n",
    "    elif r<=0.88:\n",
    "        x=4\n",
    "    else:\n",
    "        x=5\n",
    "    return x"
   ]
  },
  {
   "cell_type": "code",
   "execution_count": 4,
   "id": "7c2ebb86",
   "metadata": {},
   "outputs": [],
   "source": [
    "def Distinguished_Customer_tba(r):\n",
    "    if r<=0.1:\n",
    "        x=1\n",
    "    elif r<=0.3:\n",
    "        x=2\n",
    "    elif r<=0.6:\n",
    "        x=3\n",
    "    else:\n",
    "        x=4\n",
    "    return x"
   ]
  },
  {
   "cell_type": "code",
   "execution_count": 5,
   "id": "e6ef0cd2",
   "metadata": {},
   "outputs": [],
   "source": [
    "def O_servicetime(r):\n",
    "    if r<=0.20:\n",
    "        x=1\n",
    "    elif r<=0.60:\n",
    "        x=2\n",
    "    elif r<=0.88:\n",
    "        x=3\n",
    "    else:\n",
    "        x=4\n",
    "    return x"
   ]
  },
  {
   "cell_type": "code",
   "execution_count": 6,
   "id": "2471fd88",
   "metadata": {},
   "outputs": [],
   "source": [
    "def D_servicetime(r):\n",
    "    if r<=0.10:\n",
    "        x=1\n",
    "    elif r<=0.40:\n",
    "        x=2\n",
    "    elif r<=0.78:\n",
    "        x=3\n",
    "    else:\n",
    "        x=4\n",
    "    return x"
   ]
  },
  {
   "cell_type": "code",
   "execution_count": 7,
   "id": "589006e5",
   "metadata": {},
   "outputs": [],
   "source": [
    "def DorN(r):\n",
    "    if r==0:\n",
    "        x = 0\n",
    "    elif r==1:\n",
    "        x = 1\n",
    "    return x"
   ]
  },
  {
   "cell_type": "code",
   "execution_count": 8,
   "id": "cb433e68",
   "metadata": {},
   "outputs": [],
   "source": [
    "def OorN(r):\n",
    "    if r==0:\n",
    "        x = 0\n",
    "    elif r==1:\n",
    "        x = 1\n",
    "    return x"
   ]
  },
  {
   "cell_type": "code",
   "execution_count": 155,
   "id": "b2294783",
   "metadata": {},
   "outputs": [
    {
     "name": "stdout",
     "output_type": "stream",
     "text": [
      "Enter the number of customer: 20\n"
     ]
    }
   ],
   "source": [
    "n= int(input(\"Enter the number of customer: \"))\n",
    "customer= []\n",
    "\n",
    "O_Customer=[]\n",
    "IAT_O = []\n",
    "arrival_time_O= []\n",
    "waiting_time_O = []\n",
    "servicetime_O= []\n",
    "service_start_time_O = []\n",
    "Total_T_in_SystemO=[]\n",
    "Completion_TO=[]\n",
    "\n",
    "D_Customer=[]\n",
    "IAT_D = []\n",
    "arrival_time_D= []\n",
    "waiting_time_D = []\n",
    "servicetime_D= []\n",
    "service_start_time_D = []\n",
    "Total_T_in_SystemD=[]\n",
    "Completion_TD=[]\n",
    "\n",
    "service_start_time = []\n",
    "waiting_time = []\n",
    "servicetime=[]\n",
    "Completion_T=[]\n",
    "Total_T_in_System=[]\n",
    "leno=[]\n",
    "lend=[]\n",
    "O=0\n",
    "D=0\n",
    "for i in range(0,int(n/2)):\n",
    "    IAT_O.append(Ordinary_Customer_tba(random.uniform(0,1)))\n",
    "    IAT_D.append(Distinguished_Customer_tba(random.uniform(0,1)))\n",
    "    \n",
    "    if IAT_O[i] < IAT_D[i] and IAT_O[i]!=0:  \n",
    "        leno.append('First')\n",
    "        lend.append('Second')\n",
    "        O+=1\n",
    "        D+=1\n",
    "        if i==0:\n",
    "            arrival_time_O.append(IAT_O[i])\n",
    "            service_start_time_O.append(arrival_time_O[i])\n",
    "            waiting_time_O.append(0)\n",
    "            servicetime_O.append(O_servicetime(random.uniform(0,1)))\n",
    "            Completion_TO.append(service_start_time_O[i] + servicetime_O[i])\n",
    "            Total_T_in_SystemO.append(Completion_TO[i] - arrival_time_O[i])\n",
    "        else:\n",
    "            arrival_time_O.append(IAT_O[i] + arrival_time_O[i-1])\n",
    "            if Completion_TO[i-1] >  arrival_time_O[i]:\n",
    "                service_start_time_O.append(Completion_TO[i-1])\n",
    "            else:\n",
    "                service_start_time_O.append(arrival_time_O[i])\n",
    "            waiting_time_O.append(service_start_time_O[i]-arrival_time_O[i])\n",
    "            servicetime_O.append(O_servicetime(random.uniform(0,1)))\n",
    "            Completion_TO.append(service_start_time_O[i] + servicetime_O[i])\n",
    "            Total_T_in_SystemO.append(Completion_TO[i] - arrival_time_O[i])\n",
    "        if i==0:\n",
    "            arrival_time_D.append(IAT_D[i])\n",
    "            service_start_time_D.append(arrival_time_D[i])\n",
    "            waiting_time_D.append(0)\n",
    "            servicetime_D.append(D_servicetime(random.uniform(0,1)))\n",
    "            Completion_TD.append(service_start_time_D[i] + servicetime_D[i])\n",
    "            Total_T_in_SystemD.append(Completion_TD[i] - arrival_time_D[i])\n",
    "        else:\n",
    "            arrival_time_D.append(IAT_D[i] + arrival_time_D[i-1])\n",
    "            if Completion_TD[i-1] >  arrival_time_D[i]:\n",
    "                service_start_time_D.append(Completion_TD[i-1])\n",
    "            else:\n",
    "                service_start_time_D.append(arrival_time_D[i])\n",
    "            waiting_time_D.append(service_start_time_D[i]-arrival_time_D[i])\n",
    "            servicetime_D.append(D_servicetime(random.uniform(0,1)))\n",
    "            Completion_TD.append(service_start_time_D[i] + servicetime_D[i])\n",
    "            Total_T_in_SystemD.append(Completion_TD[i] - arrival_time_D[i])\n",
    "    else:\n",
    "        if IAT_O[i]==0:\n",
    "            leno.append('NAN')\n",
    "        else:\n",
    "            O+=1\n",
    "            leno.append('Second')\n",
    "        lend.append('First')\n",
    "        D+=1\n",
    "        if i==0:\n",
    "            arrival_time_D.append(IAT_D[i])\n",
    "            service_start_time_D.append(arrival_time_D[i])\n",
    "            waiting_time_D.append(0)\n",
    "            servicetime_D.append(D_servicetime(random.uniform(0,1)))\n",
    "            Completion_TD.append(service_start_time_D[i] + servicetime_D[i])\n",
    "            Total_T_in_SystemD.append(Completion_TD[i] - arrival_time_D[i])\n",
    "        else:\n",
    "            arrival_time_D.append(IAT_D[i] + arrival_time_D[i-1])\n",
    "            if Completion_TD[i-1] >  arrival_time_D[i]:\n",
    "                service_start_time_D.append(Completion_TD[i-1])\n",
    "            else:\n",
    "                service_start_time_D.append(arrival_time_D[i])\n",
    "            waiting_time_D.append(service_start_time_D[i]-arrival_time_D[i])\n",
    "            servicetime_D.append(D_servicetime(random.uniform(0,1)))\n",
    "            Completion_TD.append(service_start_time_D[i] + servicetime_D[i])\n",
    "            Total_T_in_SystemD.append(Completion_TD[i] - arrival_time_D[i])\n",
    "        if IAT_O[i]==0:\n",
    "            arrival_time_O.append(0)\n",
    "            waiting_time_O.append(0)\n",
    "            servicetime_O.append(0)\n",
    "            service_start_time_O.append(0)\n",
    "            Total_T_in_SystemO.append(0)\n",
    "            Completion_TO.append(0)\n",
    "        else:\n",
    "            if i==0:\n",
    "                arrival_time_O.append(IAT_O[i])\n",
    "                service_start_time_O.append(arrival_time_O[i])\n",
    "                waiting_time_O.append(0)\n",
    "                servicetime_O.append(O_servicetime(random.uniform(0,1)))\n",
    "                Completion_TO.append(service_start_time_O[i] + servicetime_O[i])\n",
    "                Total_T_in_SystemO.append(Completion_TO[i] - arrival_time_O[i])\n",
    "            else:\n",
    "                arrival_time_O.append(IAT_O[i] + arrival_time_O[i-1])\n",
    "                if Completion_TO[i-1] >  arrival_time_O[i]:\n",
    "                    service_start_time_O.append(Completion_TO[i-1])\n",
    "                else:\n",
    "                    service_start_time_O.append(arrival_time_O[i])\n",
    "                waiting_time_O.append(service_start_time_O[i]-arrival_time_O[i])\n",
    "                servicetime_O.append(O_servicetime(random.uniform(0,1)))\n",
    "                Completion_TO.append(service_start_time_O[i] + servicetime_O[i])\n",
    "                Total_T_in_SystemO.append(Completion_TO[i] - arrival_time_O[i])"
   ]
  },
  {
   "cell_type": "code",
   "execution_count": 167,
   "id": "5e301434",
   "metadata": {},
   "outputs": [],
   "source": [
    "dic = {'O_Customer':leno,'D_Customer':lend,'IAT_O':IAT_O,'IAT_D':IAT_D,'service_start_time_O':service_start_time_O,'service_start_time_D':service_start_time_D,'arrival_time_O':arrival_time_O,'arrival_time_D':arrival_time_D,'waiting_time_O':waiting_time_O,'waiting_time_D':waiting_time_D,'servicetime_O':servicetime_O,'servicetime_D':servicetime_D,'Completion_TO':Completion_TO,'Completion_TD':Completion_TD}\n"
   ]
  },
  {
   "cell_type": "code",
   "execution_count": 168,
   "id": "e2873c57",
   "metadata": {},
   "outputs": [
    {
     "name": "stdout",
     "output_type": "stream",
     "text": [
      "10\n",
      "10\n",
      "10\n",
      "10\n",
      "10\n",
      "10\n",
      "10\n",
      "10\n",
      "10\n",
      "10\n",
      "10\n",
      "10\n",
      "10\n",
      "10\n"
     ]
    }
   ],
   "source": [
    "print(len(leno))\n",
    "print(len(lend))\n",
    "print(len(IAT_O))\n",
    "print(len(IAT_D))\n",
    "print(len(arrival_time_O))\n",
    "print(len(arrival_time_D))\n",
    "print(len(service_start_time_O))\n",
    "print(len(service_start_time_D))\n",
    "print(len(waiting_time_O))\n",
    "print(len(waiting_time_D))\n",
    "print(len(servicetime_O))\n",
    "print(len(servicetime_D))\n",
    "print(len(Completion_TD))\n",
    "print(len(Completion_TO))\n"
   ]
  },
  {
   "cell_type": "code",
   "execution_count": 169,
   "id": "2d8273a7",
   "metadata": {
    "scrolled": true
   },
   "outputs": [
    {
     "data": {
      "text/html": [
       "<div>\n",
       "<style scoped>\n",
       "    .dataframe tbody tr th:only-of-type {\n",
       "        vertical-align: middle;\n",
       "    }\n",
       "\n",
       "    .dataframe tbody tr th {\n",
       "        vertical-align: top;\n",
       "    }\n",
       "\n",
       "    .dataframe thead th {\n",
       "        text-align: right;\n",
       "    }\n",
       "</style>\n",
       "<table border=\"1\" class=\"dataframe\">\n",
       "  <thead>\n",
       "    <tr style=\"text-align: right;\">\n",
       "      <th></th>\n",
       "      <th>O_Customer</th>\n",
       "      <th>D_Customer</th>\n",
       "      <th>IAT_O</th>\n",
       "      <th>IAT_D</th>\n",
       "      <th>service_start_time_O</th>\n",
       "      <th>service_start_time_D</th>\n",
       "      <th>arrival_time_O</th>\n",
       "      <th>arrival_time_D</th>\n",
       "      <th>waiting_time_O</th>\n",
       "      <th>waiting_time_D</th>\n",
       "      <th>servicetime_O</th>\n",
       "      <th>servicetime_D</th>\n",
       "      <th>Completion_TO</th>\n",
       "      <th>Completion_TD</th>\n",
       "    </tr>\n",
       "  </thead>\n",
       "  <tbody>\n",
       "    <tr>\n",
       "      <th>0</th>\n",
       "      <td>First</td>\n",
       "      <td>Second</td>\n",
       "      <td>1</td>\n",
       "      <td>3</td>\n",
       "      <td>1</td>\n",
       "      <td>3</td>\n",
       "      <td>1</td>\n",
       "      <td>3</td>\n",
       "      <td>0</td>\n",
       "      <td>0</td>\n",
       "      <td>2</td>\n",
       "      <td>3</td>\n",
       "      <td>3</td>\n",
       "      <td>6</td>\n",
       "    </tr>\n",
       "    <tr>\n",
       "      <th>1</th>\n",
       "      <td>First</td>\n",
       "      <td>Second</td>\n",
       "      <td>2</td>\n",
       "      <td>4</td>\n",
       "      <td>3</td>\n",
       "      <td>7</td>\n",
       "      <td>3</td>\n",
       "      <td>7</td>\n",
       "      <td>0</td>\n",
       "      <td>0</td>\n",
       "      <td>1</td>\n",
       "      <td>4</td>\n",
       "      <td>4</td>\n",
       "      <td>11</td>\n",
       "    </tr>\n",
       "    <tr>\n",
       "      <th>2</th>\n",
       "      <td>First</td>\n",
       "      <td>Second</td>\n",
       "      <td>1</td>\n",
       "      <td>4</td>\n",
       "      <td>4</td>\n",
       "      <td>11</td>\n",
       "      <td>4</td>\n",
       "      <td>11</td>\n",
       "      <td>0</td>\n",
       "      <td>0</td>\n",
       "      <td>2</td>\n",
       "      <td>2</td>\n",
       "      <td>6</td>\n",
       "      <td>13</td>\n",
       "    </tr>\n",
       "    <tr>\n",
       "      <th>3</th>\n",
       "      <td>Second</td>\n",
       "      <td>First</td>\n",
       "      <td>5</td>\n",
       "      <td>3</td>\n",
       "      <td>9</td>\n",
       "      <td>14</td>\n",
       "      <td>9</td>\n",
       "      <td>14</td>\n",
       "      <td>0</td>\n",
       "      <td>0</td>\n",
       "      <td>3</td>\n",
       "      <td>3</td>\n",
       "      <td>12</td>\n",
       "      <td>17</td>\n",
       "    </tr>\n",
       "    <tr>\n",
       "      <th>4</th>\n",
       "      <td>Second</td>\n",
       "      <td>First</td>\n",
       "      <td>5</td>\n",
       "      <td>4</td>\n",
       "      <td>14</td>\n",
       "      <td>18</td>\n",
       "      <td>14</td>\n",
       "      <td>18</td>\n",
       "      <td>0</td>\n",
       "      <td>0</td>\n",
       "      <td>4</td>\n",
       "      <td>2</td>\n",
       "      <td>18</td>\n",
       "      <td>20</td>\n",
       "    </tr>\n",
       "    <tr>\n",
       "      <th>5</th>\n",
       "      <td>First</td>\n",
       "      <td>Second</td>\n",
       "      <td>2</td>\n",
       "      <td>3</td>\n",
       "      <td>18</td>\n",
       "      <td>21</td>\n",
       "      <td>16</td>\n",
       "      <td>21</td>\n",
       "      <td>2</td>\n",
       "      <td>0</td>\n",
       "      <td>2</td>\n",
       "      <td>3</td>\n",
       "      <td>20</td>\n",
       "      <td>24</td>\n",
       "    </tr>\n",
       "    <tr>\n",
       "      <th>6</th>\n",
       "      <td>Second</td>\n",
       "      <td>First</td>\n",
       "      <td>1</td>\n",
       "      <td>1</td>\n",
       "      <td>20</td>\n",
       "      <td>24</td>\n",
       "      <td>17</td>\n",
       "      <td>22</td>\n",
       "      <td>3</td>\n",
       "      <td>2</td>\n",
       "      <td>4</td>\n",
       "      <td>3</td>\n",
       "      <td>24</td>\n",
       "      <td>27</td>\n",
       "    </tr>\n",
       "    <tr>\n",
       "      <th>7</th>\n",
       "      <td>First</td>\n",
       "      <td>Second</td>\n",
       "      <td>1</td>\n",
       "      <td>3</td>\n",
       "      <td>24</td>\n",
       "      <td>27</td>\n",
       "      <td>18</td>\n",
       "      <td>25</td>\n",
       "      <td>6</td>\n",
       "      <td>2</td>\n",
       "      <td>2</td>\n",
       "      <td>4</td>\n",
       "      <td>26</td>\n",
       "      <td>31</td>\n",
       "    </tr>\n",
       "    <tr>\n",
       "      <th>8</th>\n",
       "      <td>Second</td>\n",
       "      <td>First</td>\n",
       "      <td>4</td>\n",
       "      <td>4</td>\n",
       "      <td>26</td>\n",
       "      <td>31</td>\n",
       "      <td>22</td>\n",
       "      <td>29</td>\n",
       "      <td>4</td>\n",
       "      <td>2</td>\n",
       "      <td>4</td>\n",
       "      <td>1</td>\n",
       "      <td>30</td>\n",
       "      <td>32</td>\n",
       "    </tr>\n",
       "    <tr>\n",
       "      <th>9</th>\n",
       "      <td>Second</td>\n",
       "      <td>First</td>\n",
       "      <td>4</td>\n",
       "      <td>4</td>\n",
       "      <td>30</td>\n",
       "      <td>33</td>\n",
       "      <td>26</td>\n",
       "      <td>33</td>\n",
       "      <td>4</td>\n",
       "      <td>0</td>\n",
       "      <td>1</td>\n",
       "      <td>4</td>\n",
       "      <td>31</td>\n",
       "      <td>37</td>\n",
       "    </tr>\n",
       "  </tbody>\n",
       "</table>\n",
       "</div>"
      ],
      "text/plain": [
       "  O_Customer D_Customer  IAT_O  IAT_D  service_start_time_O  \\\n",
       "0      First     Second      1      3                     1   \n",
       "1      First     Second      2      4                     3   \n",
       "2      First     Second      1      4                     4   \n",
       "3     Second      First      5      3                     9   \n",
       "4     Second      First      5      4                    14   \n",
       "5      First     Second      2      3                    18   \n",
       "6     Second      First      1      1                    20   \n",
       "7      First     Second      1      3                    24   \n",
       "8     Second      First      4      4                    26   \n",
       "9     Second      First      4      4                    30   \n",
       "\n",
       "   service_start_time_D  arrival_time_O  arrival_time_D  waiting_time_O  \\\n",
       "0                     3               1               3               0   \n",
       "1                     7               3               7               0   \n",
       "2                    11               4              11               0   \n",
       "3                    14               9              14               0   \n",
       "4                    18              14              18               0   \n",
       "5                    21              16              21               2   \n",
       "6                    24              17              22               3   \n",
       "7                    27              18              25               6   \n",
       "8                    31              22              29               4   \n",
       "9                    33              26              33               4   \n",
       "\n",
       "   waiting_time_D  servicetime_O  servicetime_D  Completion_TO  Completion_TD  \n",
       "0               0              2              3              3              6  \n",
       "1               0              1              4              4             11  \n",
       "2               0              2              2              6             13  \n",
       "3               0              3              3             12             17  \n",
       "4               0              4              2             18             20  \n",
       "5               0              2              3             20             24  \n",
       "6               2              4              3             24             27  \n",
       "7               2              2              4             26             31  \n",
       "8               2              4              1             30             32  \n",
       "9               0              1              4             31             37  "
      ]
     },
     "execution_count": 169,
     "metadata": {},
     "output_type": "execute_result"
    }
   ],
   "source": [
    "df = pd.DataFrame(dic)\n",
    "df"
   ]
  },
  {
   "cell_type": "code",
   "execution_count": 172,
   "id": "fbc771f5",
   "metadata": {},
   "outputs": [
    {
     "data": {
      "text/plain": [
       "<AxesSubplot:xlabel='IAT_O', ylabel='Count'>"
      ]
     },
     "execution_count": 172,
     "metadata": {},
     "output_type": "execute_result"
    },
    {
     "data": {
      "image/png": "[encoded data removed]",
      "text/plain": [
       "<Figure size 432x288 with 1 Axes>"
      ]
     },
     "metadata": {
      "needs_background": "light"
     },
     "output_type": "display_data"
    }
   ],
   "source": [
    "sns.histplot(df['IAT_O'],kde =True)"
   ]
  },
  {
   "cell_type": "code",
   "execution_count": 173,
   "id": "871a78a1",
   "metadata": {},
   "outputs": [
    {
     "data": {
      "text/plain": [
       "<AxesSubplot:xlabel='IAT_D', ylabel='Count'>"
      ]
     },
     "execution_count": 173,
     "metadata": {},
     "output_type": "execute_result"
    },
    {
     "data": {
      "image/png": "[encoded data removed]",
      "text/plain": [
       "<Figure size 432x288 with 1 Axes>"
      ]
     },
     "metadata": {
      "needs_background": "light"
     },
     "output_type": "display_data"
    }
   ],
   "source": [
    "sns.histplot(df['IAT_D'],kde =True)"
   ]
  },
  {
   "cell_type": "code",
   "execution_count": 174,
   "id": "ab7c51a9",
   "metadata": {},
   "outputs": [
    {
     "data": {
      "text/plain": [
       "<AxesSubplot:xlabel='service_start_time_D', ylabel='Count'>"
      ]
     },
     "execution_count": 174,
     "metadata": {},
     "output_type": "execute_result"
    },
    {
     "data": {
      "image/png": "[encoded data removed]",
      "text/plain": [
       "<Figure size 432x288 with 1 Axes>"
      ]
     },
     "metadata": {
      "needs_background": "light"
     },
     "output_type": "display_data"
    }
   ],
   "source": [
    "sns.histplot(df['service_start_time_D'],kde =True)"
   ]
  },
  {
   "cell_type": "code",
   "execution_count": 175,
   "id": "4ea57b82",
   "metadata": {},
   "outputs": [
    {
     "data": {
      "text/plain": [
       "<AxesSubplot:xlabel='service_start_time_O', ylabel='Count'>"
      ]
     },
     "execution_count": 175,
     "metadata": {},
     "output_type": "execute_result"
    },
    {
     "data": {
      "image/png": "[encoded data removed]",
      "text/plain": [
       "<Figure size 432x288 with 1 Axes>"
      ]
     },
     "metadata": {
      "needs_background": "light"
     },
     "output_type": "display_data"
    }
   ],
   "source": [
    "sns.histplot(df['service_start_time_O'],kde =True)"
   ]
  },
  {
   "cell_type": "code",
   "execution_count": 176,
   "id": "ae789c1b",
   "metadata": {},
   "outputs": [
    {
     "data": {
      "text/plain": [
       "<AxesSubplot:xlabel='arrival_time_O', ylabel='Count'>"
      ]
     },
     "execution_count": 176,
     "metadata": {},
     "output_type": "execute_result"
    },
    {
     "data": {
      "image/png": "[encoded data removed]",
      "text/plain": [
       "<Figure size 432x288 with 1 Axes>"
      ]
     },
     "metadata": {
      "needs_background": "light"
     },
     "output_type": "display_data"
    }
   ],
   "source": [
    "sns.histplot(df['arrival_time_O'],kde =True)\n"
   ]
  },
  {
   "cell_type": "code",
   "execution_count": 177,
   "id": "fbbbe854",
   "metadata": {},
   "outputs": [
    {
     "data": {
      "text/plain": [
       "<AxesSubplot:xlabel='arrival_time_D', ylabel='Count'>"
      ]
     },
     "execution_count": 177,
     "metadata": {},
     "output_type": "execute_result"
    },
    {
     "data": {
      "image/png": "[encoded data removed]",
      "text/plain": [
       "<Figure size 432x288 with 1 Axes>"
      ]
     },
     "metadata": {
      "needs_background": "light"
     },
     "output_type": "display_data"
    }
   ],
   "source": [
    "sns.histplot(df['arrival_time_D'],kde =True)"
   ]
  },
  {
   "cell_type": "code",
   "execution_count": 178,
   "id": "b337686d",
   "metadata": {},
   "outputs": [
    {
     "data": {
      "text/plain": [
       "<AxesSubplot:xlabel='servicetime_O', ylabel='Count'>"
      ]
     },
     "execution_count": 178,
     "metadata": {},
     "output_type": "execute_result"
    },
    {
     "data": {
      "image/png": "[encoded data removed]",
      "text/plain": [
       "<Figure size 432x288 with 1 Axes>"
      ]
     },
     "metadata": {
      "needs_background": "light"
     },
     "output_type": "display_data"
    }
   ],
   "source": [
    "sns.histplot(df['servicetime_O'],kde =True)"
   ]
  },
  {
   "cell_type": "code",
   "execution_count": 179,
   "id": "36cf762f",
   "metadata": {},
   "outputs": [
    {
     "data": {
      "text/plain": [
       "<AxesSubplot:xlabel='servicetime_D', ylabel='Count'>"
      ]
     },
     "execution_count": 179,
     "metadata": {},
     "output_type": "execute_result"
    },
    {
     "data": {
      "image/png": "[encoded data removed]",
      "text/plain": [
       "<Figure size 432x288 with 1 Axes>"
      ]
     },
     "metadata": {
      "needs_background": "light"
     },
     "output_type": "display_data"
    }
   ],
   "source": [
    "sns.histplot(df['servicetime_D'],kde =True)"
   ]
  },
  {
   "cell_type": "code",
   "execution_count": 166,
   "id": "342cd9ec",
   "metadata": {},
   "outputs": [
    {
     "name": "stdout",
     "output_type": "stream",
     "text": [
      "The average service time of the teller: 2.7\n",
      "The average waiting time in the Ordinary Customer: 1.9\n",
      "The average waiting time in the Distinguished Customer: 0.6\n",
      "the Ordinary Customer queue length: 10\n",
      "the Distinguished Customer queue length: 10\n",
      "The probability that an ordinary Customer:  0.5\n",
      "The probability that an Distinguished Customer:  0.3\n",
      "The portion of idle time of the teller:  0.31645569620253167\n"
     ]
    }
   ],
   "source": [
    "# The average service time of the teller\n",
    "print('The average service time of the teller:',(sum(servicetime_O)+sum(servicetime_D))/n)\n",
    "#The average waiting time in the Ordinary Customer and Distinguished Customer\n",
    "print('The average waiting time in the Ordinary Customer:',sum(waiting_time_O)/len(waiting_time_O))\n",
    "print('The average waiting time in the Distinguished Customer:',sum(waiting_time_D)/len(waiting_time_D))\n",
    "#the Distinguished Customer and Ordinary Customer queue length\n",
    "print('the Ordinary Customer queue length:',O)\n",
    "print('the Distinguished Customer queue length:',D)\n",
    "#The probability that an ordinary customer and Distinguished Customer wait in the queue\n",
    "probo=0\n",
    "for i in range(len(waiting_time_O)):\n",
    "    if waiting_time_O[i]>0:\n",
    "        probo+=1\n",
    "probd=0\n",
    "for i in range(len(waiting_time_D)):\n",
    "    if waiting_time_D[i]>0:\n",
    "        probd+=1\n",
    "print('The probability that an ordinary Customer: ',probo/int(n/2))\n",
    "print('The probability that an Distinguished Customer: ',probd/int(n/2))\n",
    "#The portion of idle time of the teller.\n",
    "utz = (sum(servicetime_O)+sum(servicetime_D))/(sum(Total_T_in_SystemO)+sum(Total_T_in_SystemD))\n",
    "idle = 1-utz\n",
    "print('The portion of idle time of the teller: ',idle)"
   ]
  },
  {
   "cell_type": "code",
   "execution_count": 136,
   "id": "aa092bd5",
   "metadata": {},
   "outputs": [
    {
     "name": "stdout",
     "output_type": "stream",
     "text": [
      "Enter the number of customer: 10\n"
     ]
    }
   ],
   "source": [
    "#two teller\n",
    "n= int(input(\"Enter the number of customer: \"))\n",
    "\n",
    "OCustomer=[]\n",
    "IATO = []\n",
    "arrivaltimeO= []\n",
    "waitingtimeO = []\n",
    "servicetimeO= []\n",
    "servicestarttimeO = []\n",
    "CompletionTTeller1=[]\n",
    "TotalTinSystemTeller1=[]\n",
    "\n",
    "DCustomer=[]\n",
    "IATD = []\n",
    "arrivaltimeD= []\n",
    "waitingtimeD = []\n",
    "servicetimeD= []\n",
    "servicestarttimeD = []\n",
    "CompletionTTeller2=[]\n",
    "TotalTinSystemTeller2=[]\n",
    "\n",
    "leno=[]\n",
    "lend=[]\n",
    "O=0\n",
    "D=0\n",
    "for i in range(0,int(n/2)):\n",
    "    leno.append('Ordinary Customer')\n",
    "    IATO.append(Ordinary_Customer_tba(random.uniform(0,1)))\n",
    "    if i==0:\n",
    "        arrivaltimeO.append(IATO[i])\n",
    "        servicestarttimeO.append(arrivaltimeO[i])\n",
    "        waitingtimeO.append(0)\n",
    "        servicetimeO.append(O_servicetime(random.uniform(0,1)))\n",
    "        CompletionTTeller1.append(servicestarttimeO[i] + servicetimeO[i])\n",
    "        TotalTinSystemTeller1.append(CompletionTTeller1[i] - arrivaltimeO[i])\n",
    "    else:\n",
    "        arrivaltimeO.append(IATO[i] + arrivaltimeO[i-1])\n",
    "        if CompletionTTeller1[i-1] >  arrivaltimeO[i]:\n",
    "            servicestarttimeO.append(CompletionTTeller1[i-1])\n",
    "        else:\n",
    "            servicestarttimeO.append(arrivaltimeO[i])\n",
    "        waitingtimeO.append(servicestarttimeO[i]-arrivaltimeO[i])\n",
    "        servicetimeO.append(O_servicetime(random.uniform(0,1)))\n",
    "        CompletionTTeller1.append(servicestarttimeO[i] + servicetimeO[i])\n",
    "        TotalTinSystemTeller1.append(CompletionTTeller1[i] - arrivaltimeO[i])\n",
    "for i in range(0,int(n/2)):    \n",
    "    lend.append('Distinguished Customer')\n",
    "    IATD.append(Distinguished_Customer_tba(random.uniform(0,1)))\n",
    "    if i==0:\n",
    "        arrivaltimeD.append(IATD[i])\n",
    "        servicestarttimeD.append(arrivaltimeD[i])\n",
    "        waitingtimeD.append(0)\n",
    "        servicetimeD.append(D_servicetime(random.uniform(0,1)))\n",
    "        CompletionTTeller2.append(servicestarttimeD[i] + servicetimeD[i])\n",
    "        TotalTinSystemTeller2.append(CompletionTTeller2[i] - arrivaltimeD[i])\n",
    "    else:\n",
    "        arrivaltimeD.append(IATD[i] + arrivaltimeD[i-1])\n",
    "        if CompletionTTeller2[i-1] >  arrivaltimeD[i]:\n",
    "            servicestarttimeD.append(CompletionTTeller2[i-1])\n",
    "        else:\n",
    "            servicestarttimeD.append(arrivaltimeD[i])\n",
    "        waitingtimeD.append(servicestarttimeD[i]-arrivaltimeD[i])\n",
    "        servicetimeD.append(D_servicetime(random.uniform(0,1)))\n",
    "        CompletionTTeller2.append(servicestarttimeD[i] + servicetimeD[i])\n",
    "        TotalTinSystemTeller2.append(CompletionTTeller2[i] - arrivaltimeD[i])"
   ]
  },
  {
   "cell_type": "code",
   "execution_count": 137,
   "id": "b71b025e",
   "metadata": {},
   "outputs": [],
   "source": [
    "teller1={'Ordinary Customer':leno,'IATO':IATO,'arrivaltimeO':arrivaltimeO,'waitingtimeO':waitingtimeO,\n",
    "         'servicetimeO':servicetimeO,'servicestarttimeO':servicestarttimeO,\n",
    "         'CompletionTTeller1':CompletionTTeller1,'TotalTinSystemTeller1':TotalTinSystemTeller1}\n",
    "\n",
    "\n",
    "teller2={'Distinguished Customer':lend,'IATD':IATD,'arrivaltimeD':arrivaltimeD,'waitingtimeD':waitingtimeD,\n",
    "         'servicetimeD':servicetimeD,'servicestarttimeD':servicestarttimeD,\n",
    "         'CompletionTTeller2':CompletionTTeller2,'TotalTinSystemTeller2':TotalTinSystemTeller2}"
   ]
  },
  {
   "cell_type": "code",
   "execution_count": 138,
   "id": "f4d7df7a",
   "metadata": {},
   "outputs": [],
   "source": [
    "df1 = pd.DataFrame(teller1)\n",
    "df2 = pd.DataFrame(teller2)"
   ]
  },
  {
   "cell_type": "code",
   "execution_count": 139,
   "id": "87e0ea4a",
   "metadata": {},
   "outputs": [
    {
     "data": {
      "text/html": [
       "<div>\n",
       "<style scoped>\n",
       "    .dataframe tbody tr th:only-of-type {\n",
       "        vertical-align: middle;\n",
       "    }\n",
       "\n",
       "    .dataframe tbody tr th {\n",
       "        vertical-align: top;\n",
       "    }\n",
       "\n",
       "    .dataframe thead th {\n",
       "        text-align: right;\n",
       "    }\n",
       "</style>\n",
       "<table border=\"1\" class=\"dataframe\">\n",
       "  <thead>\n",
       "    <tr style=\"text-align: right;\">\n",
       "      <th></th>\n",
       "      <th>Ordinary Customer</th>\n",
       "      <th>IATO</th>\n",
       "      <th>arrivaltimeO</th>\n",
       "      <th>waitingtimeO</th>\n",
       "      <th>servicetimeO</th>\n",
       "      <th>servicestarttimeO</th>\n",
       "      <th>CompletionTTeller1</th>\n",
       "      <th>TotalTinSystemTeller1</th>\n",
       "    </tr>\n",
       "  </thead>\n",
       "  <tbody>\n",
       "    <tr>\n",
       "      <th>0</th>\n",
       "      <td>Ordinary Customer</td>\n",
       "      <td>3</td>\n",
       "      <td>3</td>\n",
       "      <td>0</td>\n",
       "      <td>4</td>\n",
       "      <td>3</td>\n",
       "      <td>7</td>\n",
       "      <td>4</td>\n",
       "    </tr>\n",
       "    <tr>\n",
       "      <th>1</th>\n",
       "      <td>Ordinary Customer</td>\n",
       "      <td>5</td>\n",
       "      <td>8</td>\n",
       "      <td>0</td>\n",
       "      <td>3</td>\n",
       "      <td>8</td>\n",
       "      <td>11</td>\n",
       "      <td>3</td>\n",
       "    </tr>\n",
       "    <tr>\n",
       "      <th>2</th>\n",
       "      <td>Ordinary Customer</td>\n",
       "      <td>5</td>\n",
       "      <td>13</td>\n",
       "      <td>0</td>\n",
       "      <td>1</td>\n",
       "      <td>13</td>\n",
       "      <td>14</td>\n",
       "      <td>1</td>\n",
       "    </tr>\n",
       "    <tr>\n",
       "      <th>3</th>\n",
       "      <td>Ordinary Customer</td>\n",
       "      <td>1</td>\n",
       "      <td>14</td>\n",
       "      <td>0</td>\n",
       "      <td>3</td>\n",
       "      <td>14</td>\n",
       "      <td>17</td>\n",
       "      <td>3</td>\n",
       "    </tr>\n",
       "    <tr>\n",
       "      <th>4</th>\n",
       "      <td>Ordinary Customer</td>\n",
       "      <td>5</td>\n",
       "      <td>19</td>\n",
       "      <td>0</td>\n",
       "      <td>1</td>\n",
       "      <td>19</td>\n",
       "      <td>20</td>\n",
       "      <td>1</td>\n",
       "    </tr>\n",
       "  </tbody>\n",
       "</table>\n",
       "</div>"
      ],
      "text/plain": [
       "   Ordinary Customer  IATO  arrivaltimeO  waitingtimeO  servicetimeO  \\\n",
       "0  Ordinary Customer     3             3             0             4   \n",
       "1  Ordinary Customer     5             8             0             3   \n",
       "2  Ordinary Customer     5            13             0             1   \n",
       "3  Ordinary Customer     1            14             0             3   \n",
       "4  Ordinary Customer     5            19             0             1   \n",
       "\n",
       "   servicestarttimeO  CompletionTTeller1  TotalTinSystemTeller1  \n",
       "0                  3                   7                      4  \n",
       "1                  8                  11                      3  \n",
       "2                 13                  14                      1  \n",
       "3                 14                  17                      3  \n",
       "4                 19                  20                      1  "
      ]
     },
     "execution_count": 139,
     "metadata": {},
     "output_type": "execute_result"
    }
   ],
   "source": [
    "df1"
   ]
  },
  {
   "cell_type": "code",
   "execution_count": 140,
   "id": "a698eba0",
   "metadata": {},
   "outputs": [
    {
     "data": {
      "text/html": [
       "<div>\n",
       "<style scoped>\n",
       "    .dataframe tbody tr th:only-of-type {\n",
       "        vertical-align: middle;\n",
       "    }\n",
       "\n",
       "    .dataframe tbody tr th {\n",
       "        vertical-align: top;\n",
       "    }\n",
       "\n",
       "    .dataframe thead th {\n",
       "        text-align: right;\n",
       "    }\n",
       "</style>\n",
       "<table border=\"1\" class=\"dataframe\">\n",
       "  <thead>\n",
       "    <tr style=\"text-align: right;\">\n",
       "      <th></th>\n",
       "      <th>Distinguished Customer</th>\n",
       "      <th>IATD</th>\n",
       "      <th>arrivaltimeD</th>\n",
       "      <th>waitingtimeD</th>\n",
       "      <th>servicetimeD</th>\n",
       "      <th>servicestarttimeD</th>\n",
       "      <th>CompletionTTeller2</th>\n",
       "      <th>TotalTinSystemTeller2</th>\n",
       "    </tr>\n",
       "  </thead>\n",
       "  <tbody>\n",
       "    <tr>\n",
       "      <th>0</th>\n",
       "      <td>Distinguished Customer</td>\n",
       "      <td>3</td>\n",
       "      <td>3</td>\n",
       "      <td>0</td>\n",
       "      <td>4</td>\n",
       "      <td>3</td>\n",
       "      <td>7</td>\n",
       "      <td>4</td>\n",
       "    </tr>\n",
       "    <tr>\n",
       "      <th>1</th>\n",
       "      <td>Distinguished Customer</td>\n",
       "      <td>4</td>\n",
       "      <td>7</td>\n",
       "      <td>0</td>\n",
       "      <td>4</td>\n",
       "      <td>7</td>\n",
       "      <td>11</td>\n",
       "      <td>4</td>\n",
       "    </tr>\n",
       "    <tr>\n",
       "      <th>2</th>\n",
       "      <td>Distinguished Customer</td>\n",
       "      <td>1</td>\n",
       "      <td>8</td>\n",
       "      <td>3</td>\n",
       "      <td>3</td>\n",
       "      <td>11</td>\n",
       "      <td>14</td>\n",
       "      <td>6</td>\n",
       "    </tr>\n",
       "    <tr>\n",
       "      <th>3</th>\n",
       "      <td>Distinguished Customer</td>\n",
       "      <td>1</td>\n",
       "      <td>9</td>\n",
       "      <td>5</td>\n",
       "      <td>3</td>\n",
       "      <td>14</td>\n",
       "      <td>17</td>\n",
       "      <td>8</td>\n",
       "    </tr>\n",
       "    <tr>\n",
       "      <th>4</th>\n",
       "      <td>Distinguished Customer</td>\n",
       "      <td>3</td>\n",
       "      <td>12</td>\n",
       "      <td>5</td>\n",
       "      <td>4</td>\n",
       "      <td>17</td>\n",
       "      <td>21</td>\n",
       "      <td>9</td>\n",
       "    </tr>\n",
       "  </tbody>\n",
       "</table>\n",
       "</div>"
      ],
      "text/plain": [
       "   Distinguished Customer  IATD  arrivaltimeD  waitingtimeD  servicetimeD  \\\n",
       "0  Distinguished Customer     3             3             0             4   \n",
       "1  Distinguished Customer     4             7             0             4   \n",
       "2  Distinguished Customer     1             8             3             3   \n",
       "3  Distinguished Customer     1             9             5             3   \n",
       "4  Distinguished Customer     3            12             5             4   \n",
       "\n",
       "   servicestarttimeD  CompletionTTeller2  TotalTinSystemTeller2  \n",
       "0                  3                   7                      4  \n",
       "1                  7                  11                      4  \n",
       "2                 11                  14                      6  \n",
       "3                 14                  17                      8  \n",
       "4                 17                  21                      9  "
      ]
     },
     "execution_count": 140,
     "metadata": {},
     "output_type": "execute_result"
    }
   ],
   "source": [
    "df2"
   ]
  },
  {
   "cell_type": "code",
   "execution_count": 141,
   "id": "4239af81",
   "metadata": {},
   "outputs": [
    {
     "name": "stdout",
     "output_type": "stream",
     "text": [
      "The average waiting time in the Ordinary Customer: 0.0\n",
      "The average waiting time in the Distinguished Customer: 2.6\n"
     ]
    }
   ],
   "source": [
    "#The average waiting time in the Ordinary Customer and Distinguished Customer\n",
    "print('The average waiting time in the Ordinary Customer:',sum(waitingtimeO)/len(waitingtimeO))\n",
    "print('The average waiting time in the Distinguished Customer:',sum(waitingtimeD)/len(waitingtimeD))"
   ]
  }
 ],
 "metadata": {
  "celltoolbar": "Raw Cell Format",
  "kernelspec": {
   "display_name": "Python 3 (ipykernel)",
   "language": "python",
   "name": "python3"
  },
  "language_info": {
   "codemirror_mode": {
    "name": "ipython",
    "version": 3
   },
   "file_extension": ".py",
   "mimetype": "text/x-python",
   "name": "python",
   "nbconvert_exporter": "python",
   "pygments_lexer": "ipython3",
   "version": "3.9.7"
  }
 },
 "nbformat": 4,
 "nbformat_minor": 5
}
